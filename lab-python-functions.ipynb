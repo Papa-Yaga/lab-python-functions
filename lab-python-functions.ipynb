{
 "cells": [
  {
   "cell_type": "markdown",
   "id": "25d7736c-ba17-4aff-b6bb-66eba20fbf4e",
   "metadata": {},
   "source": [
    "# Lab | Functions"
   ]
  },
  {
   "cell_type": "markdown",
   "id": "0c581062-8967-4d93-b06e-62833222f930",
   "metadata": {
    "tags": []
   },
   "source": [
    "## Exercise: Managing Customer Orders with Functions\n",
    "\n",
    "In the previous exercise, you improved the code for managing customer orders by using loops and flow control. Now, let's take it a step further and refactor the code by introducing functions.\n",
    "\n",
    "Follow the steps below to complete the exercise:\n",
    "\n",
    "1. Define a function named `initialize_inventory` that takes `products` as a parameter. Inside the function, implement the code for initializing the inventory dictionary using a loop and user input.\n",
    "\n",
    "2. Define a function named `get_customer_orders` that takes no parameters. Inside the function, implement the code for prompting the user to enter the product names using a loop. The function should return the `customer_orders` set.\n",
    "\n",
    "3. Define a function named `update_inventory` that takes `customer_orders` and `inventory` as parameters. Inside the function, implement the code for updating the inventory dictionary based on the customer orders.\n",
    "\n",
    "4. Define a function named `calculate_order_statistics` that takes `customer_orders` and `products` as parameters. Inside the function, implement the code for calculating the order statistics (total products ordered, and percentage of unique products ordered). The function should return these values.\n",
    "\n",
    "5. Define a function named `print_order_statistics` that takes `order_statistics` as a parameter. Inside the function, implement the code for printing the order statistics.\n",
    "\n",
    "6. Define a function named `print_updated_inventory` that takes `inventory` as a parameter. Inside the function, implement the code for printing the updated inventory.\n",
    "\n",
    "7. Call the functions in the appropriate sequence to execute the program and manage customer orders.\n",
    "\n",
    "Hints for functions:\n",
    "\n",
    "- Consider the input parameters required for each function and their return values.\n",
    "- Utilize function parameters and return values to transfer data between functions.\n",
    "- Test your functions individually to ensure they work correctly.\n",
    "\n",
    "\n"
   ]
  },
  {
   "cell_type": "code",
   "execution_count": 30,
   "id": "130cc703-5370-48a7-9dd9-4be2b79b6e19",
   "metadata": {},
   "outputs": [
    {
     "name": "stdin",
     "output_type": "stream",
     "text": [
      "Please enter the quantity of this item: t-shirt 2\n"
     ]
    },
    {
     "name": "stdout",
     "output_type": "stream",
     "text": [
      "Added 2 T-Shirt to the inventory\n"
     ]
    },
    {
     "name": "stdin",
     "output_type": "stream",
     "text": [
      "Please enter the quantity of this item: mug 0\n"
     ]
    },
    {
     "name": "stdout",
     "output_type": "stream",
     "text": [
      "Added 0 Mug to the inventory\n"
     ]
    },
    {
     "name": "stdin",
     "output_type": "stream",
     "text": [
      "Please enter the quantity of this item: hat 3\n"
     ]
    },
    {
     "name": "stdout",
     "output_type": "stream",
     "text": [
      "Added 3 Hat to the inventory\n"
     ]
    },
    {
     "name": "stdin",
     "output_type": "stream",
     "text": [
      "Please enter the quantity of this item: book 17\n"
     ]
    },
    {
     "name": "stdout",
     "output_type": "stream",
     "text": [
      "Added 17 Book to the inventory\n"
     ]
    },
    {
     "name": "stdin",
     "output_type": "stream",
     "text": [
      "Please enter the quantity of this item: keychain 2\n"
     ]
    },
    {
     "name": "stdout",
     "output_type": "stream",
     "text": [
      "Added 2 Keychain to the inventory\n",
      "{'t-shirt': 2, 'mug': 0, 'hat': 3, 'book': 17, 'keychain': 2}\n",
      "Available items = ['t-shirt', 'hat', 'book', 'keychain']\n",
      "\n"
     ]
    },
    {
     "name": "stdin",
     "output_type": "stream",
     "text": [
      "Please place your order for an available item from this list: ['t-shirt', 'hat', 'book', 'keychain'] hat\n"
     ]
    },
    {
     "name": "stdout",
     "output_type": "stream",
     "text": [
      "Hat added to order\n"
     ]
    },
    {
     "name": "stdin",
     "output_type": "stream",
     "text": [
      "Would you like to order another item? (yes/no) yes\n",
      "Which item woud you like to order? book\n"
     ]
    },
    {
     "name": "stdout",
     "output_type": "stream",
     "text": [
      "Book added to order\n"
     ]
    },
    {
     "name": "stdin",
     "output_type": "stream",
     "text": [
      "Would you like to order another item? (yes/no) yes\n",
      "Which item woud you like to order? keychain\n"
     ]
    },
    {
     "name": "stdout",
     "output_type": "stream",
     "text": [
      "Keychain added to order\n"
     ]
    },
    {
     "name": "stdin",
     "output_type": "stream",
     "text": [
      "Would you like to order another item? (yes/no) no\n"
     ]
    },
    {
     "name": "stdout",
     "output_type": "stream",
     "text": [
      "\n",
      "The total amount of ordered items is: 3\n",
      "The percentage of units ordered is 12.5\n",
      "\n",
      "t-shirt: 2\n",
      "mug: 0\n",
      "hat: 2\n",
      "book: 16\n",
      "keychain: 1\n",
      "Done\n",
      "\n"
     ]
    }
   ],
   "source": [
    "products = [\"t-shirt\", \"mug\", \"hat\", \"book\", \"keychain\"]\n",
    "customer_orders = set()\n",
    "inventory = {}\n",
    "count = 0\n",
    "qnty = 0\n",
    "\n",
    "def initialize_inventory(products):\n",
    "    global qnty\n",
    "    for item in products:\n",
    "        user_input = int(input(f\"Please enter the quantity of this item: {item}\"))\n",
    "        if user_input >= 0:\n",
    "            inventory[item] = user_input\n",
    "            qnty += user_input\n",
    "        else:\n",
    "            inventory[item] = 0\n",
    "        print(f\"Added {user_input} {item.title()} to the inventory\")\n",
    "\n",
    "def get_customer_orders():\n",
    "    global count\n",
    "    available_items = [x for x,y in inventory.items() if y!=0]\n",
    "    print(f\"Available items = {available_items}\\n\")\n",
    "    initial_order = input(f\"Please place your order for an available item from this list: {available_items}\")\n",
    "    customer_orders.add(initial_order)\n",
    "    count += 1\n",
    "    print(f\"{initial_order.title()} added to order\")\n",
    "    while True:\n",
    "        follow_up = input(\"Would you like to order another item? (yes/no)\")\n",
    "        if \"yes\" in follow_up.lower():\n",
    "            follow_up_order = input(\"Which item woud you like to order?\")\n",
    "            print(f\"{follow_up_order.title()} added to order\")\n",
    "            customer_orders.add(follow_up_order)\n",
    "            count += 1\n",
    "            continue\n",
    "        elif \"no\" in follow_up.lower():\n",
    "            return(customer_orders)\n",
    "            print(f\"Placing an order for {count} items\")\n",
    "            break\n",
    "        else:\n",
    "            print(\"Yes, or no?\")\n",
    "            continue\n",
    "\n",
    "def update_inventory(customer_orders, inventory):\n",
    "    for item in inventory:\n",
    "        if item in customer_orders:\n",
    "            inventory[item] = inventory[item]-1\n",
    "\n",
    "def calculate_order_statistics(customer_orders, products):\n",
    "    order_statistics = {count : (count/qnty)*100}\n",
    "    return order_statistics\n",
    "\n",
    "def print_order_statistics(order_statistics):\n",
    "    for total_count,percentage in order_statistics.items():\n",
    "        print(f\"\\nThe total amount of ordered items is: {total_count}\\nThe percentage of units ordered is {round(percentage,2)}\\n\")\n",
    "\n",
    "def print_updated_inventory(inventory):\n",
    "    for item in inventory:\n",
    "        print(f\"{item}: {inventory[item]}\")\n",
    "\n",
    "initialize_inventory(products)\n",
    "print(inventory)\n",
    "final_orders = get_customer_orders()\n",
    "update_inventory(final_orders, inventory)\n",
    "print_order_statistics(calculate_order_statistics(final_orders, products))\n",
    "print_updated_inventory(inventory)\n",
    "print(\"Done\\n\")\n",
    "\n"
   ]
  },
  {
   "cell_type": "code",
   "execution_count": null,
   "id": "ee812868-459e-4fbb-b495-51ccf6efbd0f",
   "metadata": {},
   "outputs": [],
   "source": []
  }
 ],
 "metadata": {
  "kernelspec": {
   "display_name": "Python 3 (ipykernel)",
   "language": "python",
   "name": "python3"
  },
  "language_info": {
   "codemirror_mode": {
    "name": "ipython",
    "version": 3
   },
   "file_extension": ".py",
   "mimetype": "text/x-python",
   "name": "python",
   "nbconvert_exporter": "python",
   "pygments_lexer": "ipython3",
   "version": "3.11.7"
  }
 },
 "nbformat": 4,
 "nbformat_minor": 5
}
